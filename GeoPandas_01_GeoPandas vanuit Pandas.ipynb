{
 "cells": [
  {
   "cell_type": "markdown",
   "metadata": {},
   "source": [
    "# GeoDataFrame aanmaken vanuit een DataFrame met coördinaten\n",
    "\n",
    "In deze demo zullen we het aanmaken van een ``GeoDataFrame`` (GeoPandas) illustreren op basis van een *reguliere* ``DataFrame``. In deze ``DataFrame`` zijn coördinaten verwerkt in afzonderlijke kolommen (lengteligging als **LON** en breedteligging als **LAT**). In het tweede deel worden dezelfde coördinaten voorgesteld in het WKT-formaat ([well-known text](https://en.wikipedia.org/wiki/Well-known_text)).\n",
    "\n",
    "In beide gevallen zullen we de Vlaamse provinciehoofdsteden projecteren op een grafische voorstelling van Belgische provincies (geselecteerd op Vlaamse provincies)."
   ]
  },
  {
   "cell_type": "code",
   "execution_count": null,
   "metadata": {
    "ExecuteTime": {
     "end_time": "2021-11-03T12:05:15.091850Z",
     "start_time": "2021-11-03T12:05:13.994886Z"
    }
   },
   "outputs": [],
   "source": [
    "# Bibliotheken importeren\n",
    "import pandas as pd\n",
    "import geopandas as gpd\n",
    "import matplotlib.pyplot as plt\n",
    "\n",
    "# Instelling om figuren wat groter af te beelden\n",
    "plt.rcParams['figure.figsize'] = [15, 5]"
   ]
  },
  {
   "cell_type": "markdown",
   "metadata": {},
   "source": [
    "## Geometriën uit kolommen\n",
    "\n",
    "Laten we eerst eens kijken naar de ``DataFrame`` met Vlaamse provinciehoofdsteden met de vermelding van de naam van de stad (**STAD**), de Nederlandse (**PROV_NL**) en Engelse (**PROV_EN**) benaming van de provincie, de breedteligging (**LAT**) en de lengteligging (**LON**)."
   ]
  },
  {
   "cell_type": "code",
   "execution_count": null,
   "metadata": {},
   "outputs": [],
   "source": [
    "df = pd.DataFrame(\n",
    "    {'STAD': ['Brugge', 'Gent', 'Antwerpen', 'Leuven', 'Hasselt'],\n",
    "     'PROV_NL': ['West-Vlaanderen', 'Oost-Vlaanderen', 'Antwerpen', 'Vlaams-Brabant', 'Limburg'],\n",
    "     'PROV_EN': ['West Flanders', 'East Flanders', 'Antwerp', 'Flemish Brabant', 'Limburg'],\n",
    "     'LAT': [51.26, 51.07, 51.21, 50.88, 50.93],\n",
    "     'LON': [3.21, 3.72, 4.38, 4.70, 5.33]})"
   ]
  },
  {
   "cell_type": "markdown",
   "metadata": {},
   "source": [
    "Een ``GeoDataFrame`` vereist een ``shapely``-object. We gebruiken de ``points_from_xy()``-methode uit GeoPandas om **LAT** en **LON** te converteren naar een lijst met ``shapely.Point``-objecten. Ieder object wordt vervolgens omgezet naar een ``geometry`` wanneer de ``GeoDataFrame`` wordt aangemaakt.\n",
    "\n",
    "> De methode ``points_from_xy()`` is een 'wrapper' of vereenvoudigde methode voor de volgende code: ``[Point(x, y) for x, y in zip(df.Longitude, df.Latitude)]``)"
   ]
  },
  {
   "cell_type": "code",
   "execution_count": null,
   "metadata": {},
   "outputs": [],
   "source": [
    "gdf = gpd.GeoDataFrame(df, geometry=gpd.points_from_xy(df.LON, df.LAT))"
   ]
  },
  {
   "cell_type": "markdown",
   "metadata": {},
   "source": [
    "Het object ``gdf`` ziet er nu als volgt uit:"
   ]
  },
  {
   "cell_type": "code",
   "execution_count": null,
   "metadata": {},
   "outputs": [],
   "source": [
    "print(gdf.head())"
   ]
  },
  {
   "cell_type": "markdown",
   "metadata": {},
   "source": [
    "Tot slot projecteren we deze Vlaamse procinciehoofdsteden op een kaartje met toevoeging van de provincies zelf."
   ]
  },
  {
   "cell_type": "code",
   "execution_count": null,
   "metadata": {
    "tags": [
     "nbsphinx-thumbnail"
    ]
   },
   "outputs": [],
   "source": [
    "# We halen de data op uit een online repository op GitHub\n",
    "url = \"https://github.com/deldersveld/topojson/raw/master/countries/belgium/belgium-provinces.json\"\n",
    "belgium = gpd.read_file(url)\n",
    "\n",
    "# We visualiseren enkel de provincies die voorkomen in onze lijst\n",
    "ax = belgium[belgium.NAME_1.isin(gdf.PROV_EN)].plot(\n",
    "    color='white', edgecolor='black')\n",
    "\n",
    "# Tot slot plotten we de ``GeoDataFrame``.\n",
    "gdf.plot(ax=ax, color='red')\n",
    "\n",
    "plt.show()"
   ]
  },
  {
   "cell_type": "markdown",
   "metadata": {},
   "source": [
    "## GeoDataFrame vanuit een dataset in het WKT formaat\n",
    "\n",
    "We hernemen de dataset met Vlaamse provinciehoofdsteden als ``DataFrame``, waarbij de coördinaten worden gegeven in het WKT formaat.\n",
    "\n"
   ]
  },
  {
   "cell_type": "code",
   "execution_count": null,
   "metadata": {},
   "outputs": [],
   "source": [
    "df = pd.DataFrame(\n",
    "    {'STAD': ['Brugge', 'Gent', 'Antwerpen', 'Leuven', 'Hasselt'],\n",
    "     'PROV_NL': ['West-Vlaanderen', 'Oost-Vlaanderen', 'Antwerpen', 'Vlaams-Brabant', 'Limburg'],\n",
    "     'PROV_EN': ['West Flanders', 'East Flanders', 'Antwerp', 'Flemish Brabant', 'Limburg'],\n",
    "     'COORD': ['POINT (3.21000 51.26000)', 'POINT (3.72000 51.07000)', 'POINT (4.38000 51.21000)',\n",
    "               'POINT (4.70000 50.88000)', 'POINT (5.33000 50.93000)']})"
   ]
  },
  {
   "cell_type": "markdown",
   "metadata": {},
   "source": [
    "Merk op dat deze weergave van geometriën dezelfde is als bij de voorstelling van de eerder aangemaakte ``GeoDataFrame`` (zie hierboven). We gebruiken de submodule ``shapely.wkt`` om deze data te parsen, dus voor de conversie naar een formaat dat compatibel is met GeoPandas. De methode voor de conversie van WKT naar daarwerkelijke geometieën is verschillend afhankelijk van de versie van GeoPandas."
   ]
  },
  {
   "cell_type": "code",
   "execution_count": null,
   "metadata": {},
   "outputs": [],
   "source": [
    "# Importeer de WKT submodule\n",
    "from shapely import wkt\n",
    "\n",
    "# Bepaal de te gebruiken methode afhankelijk van de versie\n",
    "if (gpd.__version__ < '0.9'):\n",
    "    df['geometry'] = df.COORD.apply(wkt.loads)\n",
    "else:\n",
    "    df['geometry'] = gpd.GeoSeries.from_wkt(df['COORD'])"
   ]
  },
  {
   "cell_type": "markdown",
   "metadata": {},
   "source": [
    "De resulterende ``GeoDataFrame`` wordt in beide gevallen als volgt aangemaakt:\n",
    "\n"
   ]
  },
  {
   "cell_type": "code",
   "execution_count": null,
   "metadata": {},
   "outputs": [],
   "source": [
    "gdf = gpd.GeoDataFrame(df, geometry='geometry')\n",
    "gdf.drop('COORD', axis=1, inplace=True)\n",
    "gdf.head()"
   ]
  },
  {
   "cell_type": "markdown",
   "metadata": {},
   "source": [
    "Deze ``GeoDataFrame`` kunnen we opnieuw visualiseren, zoals hierboven reeds vermeld."
   ]
  },
  {
   "cell_type": "code",
   "execution_count": null,
   "metadata": {},
   "outputs": [],
   "source": [
    "url = \"https://github.com/deldersveld/topojson/raw/master/countries/belgium/belgium-provinces.json\"\n",
    "belgium = gpd.read_file(url)\n",
    "ax = belgium[belgium.NAME_1.isin(gdf.PROV_EN)].plot(\n",
    "    color='white', edgecolor='black')\n",
    "gdf.plot(ax=ax, color='red')\n",
    "plt.show()"
   ]
  },
  {
   "cell_type": "code",
   "execution_count": null,
   "metadata": {},
   "outputs": [],
   "source": []
  }
 ],
 "metadata": {
  "kernelspec": {
   "display_name": "Python 3",
   "language": "python",
   "name": "python3"
  },
  "language_info": {
   "codemirror_mode": {
    "name": "ipython",
    "version": 3
   },
   "file_extension": ".py",
   "mimetype": "text/x-python",
   "name": "python",
   "nbconvert_exporter": "python",
   "pygments_lexer": "ipython3",
   "version": "3.7.7"
  }
 },
 "nbformat": 4,
 "nbformat_minor": 4
}
